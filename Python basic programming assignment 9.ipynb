{
 "cells": [
  {
   "cell_type": "markdown",
   "id": "b4f50d6d",
   "metadata": {},
   "source": [
    "A number is said to be the Disarium number when the sum of its digit raised to the power of their respective positions becomes equal to the number itself.\n",
    "\n",
    "175, 1¹ + 7² + 5³ = 1 + 49 + 125= 175"
   ]
  },
  {
   "cell_type": "code",
   "execution_count": 11,
   "id": "73870570",
   "metadata": {},
   "outputs": [
    {
     "name": "stdout",
     "output_type": "stream",
     "text": [
      "Enter number: 175\n",
      "Disarium\n"
     ]
    }
   ],
   "source": [
    "#Write a Python program to check if the given number is a Disarium Number?\n",
    "n=int(input(\"Enter number: \"))\n",
    "l=1\n",
    "s=0\n",
    "for i in str(n):\n",
    "    s=s+int(i)**l\n",
    "    l+=1\n",
    "if s == n:\n",
    "    print(\"Disarium\")\n",
    "else:\n",
    "    print(\"Not Disarium\")"
   ]
  },
  {
   "cell_type": "code",
   "execution_count": 6,
   "id": "c30a5b9a",
   "metadata": {},
   "outputs": [
    {
     "name": "stdout",
     "output_type": "stream",
     "text": [
      "1\n",
      "2\n",
      "3\n",
      "4\n",
      "5\n",
      "6\n",
      "7\n",
      "8\n",
      "9\n",
      "89\n"
     ]
    }
   ],
   "source": [
    "#Write a Python program to print all disarium numbers between 1 to 100?\n",
    "\n",
    "for i in range(1,101):\n",
    "        l=1\n",
    "        s=0\n",
    "        for j in str(i):\n",
    "            s=s+int(j)**l\n",
    "            l+=1\n",
    "        if s == i:\n",
    "            print(i)\n",
    "        else:\n",
    "            pass"
   ]
  },
  {
   "cell_type": "markdown",
   "id": "5a98267a",
   "metadata": {},
   "source": [
    "A number is called happy if it leads to 1 after a sequence of steps wherein each step number is replaced by the sum of squares of its digit that is if we start with Happy Number and keep replacing it with digits square sum, we reach 1. \n",
    "\n",
    "Examples : \n",
    "\n",
    "Input: n = 19\n",
    "\n",
    "19 is Happy Number,\n",
    "\n",
    "1^2 + 9^2 = 82\n",
    "\n",
    "8^2 + 2^2 = 68\n",
    "\n",
    "6^2 + 8^2 = 100\n",
    "\n",
    "1^2 + 0^2 + 0^2 = 1\n",
    "\n",
    "As we reached to 1, 19 is a Happy Number."
   ]
  },
  {
   "cell_type": "code",
   "execution_count": 18,
   "id": "448c11bd",
   "metadata": {},
   "outputs": [
    {
     "name": "stdout",
     "output_type": "stream",
     "text": [
      "Enter the number :13\n",
      "13 Is a Happy Number\n"
     ]
    }
   ],
   "source": [
    "#Write a Python program to check if the given number is Happy Number?\n",
    "def isHappy(num):\n",
    "    sum = 0\n",
    "    while(num>0):\n",
    "        digit = num%10\n",
    "        sum= sum + digit**2        \n",
    "        num = num//10\n",
    "    return sum\n",
    "\n",
    "num = int(input(\"Enter the number :\"))\n",
    "result = num\n",
    "\n",
    "\n",
    "while (result != 1 and result != 4):\n",
    "    result = isHappy(result)\n",
    "\n",
    "if result == 1:\n",
    "    print(num,\"Is a Happy Number\")\n",
    "else:\n",
    "    print(num,\" Is a Unhappy Number\")  "
   ]
  },
  {
   "cell_type": "code",
   "execution_count": 19,
   "id": "9d146bd3",
   "metadata": {},
   "outputs": [
    {
     "name": "stdout",
     "output_type": "stream",
     "text": [
      "Happy numbers in range 1 to 100\n",
      "[1, 7, 10, 13, 19, 23, 28, 31, 32, 44, 49, 68, 70, 79, 82, 86, 91, 94, 97, 100]\n"
     ]
    }
   ],
   "source": [
    "#Write a Python program to print all happy numbers between 1 and 100?\n",
    "def isHappy(num):\n",
    "    sum = 0\n",
    "    while(num>0):\n",
    "        digit = num%10\n",
    "        sum= sum + digit**2        \n",
    "        num = num//10\n",
    "    return sum\n",
    "\n",
    "print(\"Happy numbers in range 1 to 100\")\n",
    "result=num=i=0\n",
    "happyNum = []\n",
    "for i in range(1,101):\n",
    "    result = i\n",
    "    while (result != 1 and result != 4):\n",
    "        result = isHappy(result)    \n",
    "    if result == 1:\n",
    "        happyNum.append(i)\n",
    "print(happyNum)"
   ]
  },
  {
   "cell_type": "markdown",
   "id": "031b2e65",
   "metadata": {},
   "source": [
    "\n",
    "\n",
    "\n",
    "\n",
    "\n",
    "\n",
    "\n",
    "\n",
    "\n",
    "\n",
    "If a number is divisible by the sum of its digits, then it will be known as a Harshad Number"
   ]
  },
  {
   "cell_type": "code",
   "execution_count": 23,
   "id": "da6b21df",
   "metadata": {},
   "outputs": [
    {
     "name": "stdout",
     "output_type": "stream",
     "text": [
      "Enter number: 12\n",
      "Harshad\n"
     ]
    }
   ],
   "source": [
    "#Write a Python program to determine whether the given number is a Harshad Number?\n",
    "n=int(input(\"Enter number: \"))\n",
    "\n",
    "s=0\n",
    "for i in str(n):\n",
    "    s=s+int(i)\n",
    "\n",
    "if n%s==0:\n",
    "    print(\"Harshad\")\n",
    "else:\n",
    "    print(\"Not Harshad\")"
   ]
  },
  {
   "cell_type": "markdown",
   "id": "e34d4959",
   "metadata": {},
   "source": [
    "\n",
    "\n",
    "\n",
    "\n",
    "\n",
    "\n",
    "\n",
    "\n",
    "\n",
    "\n",
    "\n",
    "\n",
    "\n",
    "\n",
    "\n",
    "\n",
    "\n",
    "\n",
    "\n",
    "\n",
    "\n",
    "\n",
    "\n",
    "\n",
    "\n",
    "\n",
    "\n",
    "\n",
    "\n",
    "\n",
    "\n",
    "\n",
    "\n",
    "The pronic number is a product of two consecutive integers of the form: n(n+1)."
   ]
  },
  {
   "cell_type": "code",
   "execution_count": 30,
   "id": "174cf417",
   "metadata": {},
   "outputs": [
    {
     "name": "stdout",
     "output_type": "stream",
     "text": [
      "Pronic numbers in range 1 to 100\n",
      "[2, 6, 12, 20, 30, 42, 56, 72, 90]\n"
     ]
    }
   ],
   "source": [
    "#Write a Python program to print all pronic numbers between 1 and 100?\n",
    "def isPronicNum(num):\n",
    "    isPronic = False\n",
    "    for i in range(1,num+1):\n",
    "        if i*(i+1) == num:\n",
    "            isPronic = True\n",
    "            break\n",
    "    return isPronic\n",
    "\n",
    "print(\"Pronic numbers in range 1 to 100\")\n",
    "pronicNum = []\n",
    "for i in range(1,101):\n",
    "    if isPronicNum(i):\n",
    "        pronicNum.append(i)\n",
    "print(pronicNum)\n",
    "    \n",
    "        "
   ]
  },
  {
   "cell_type": "code",
   "execution_count": null,
   "id": "31fac00e",
   "metadata": {},
   "outputs": [],
   "source": []
  }
 ],
 "metadata": {
  "kernelspec": {
   "display_name": "Python 3 (ipykernel)",
   "language": "python",
   "name": "python3"
  },
  "language_info": {
   "codemirror_mode": {
    "name": "ipython",
    "version": 3
   },
   "file_extension": ".py",
   "mimetype": "text/x-python",
   "name": "python",
   "nbconvert_exporter": "python",
   "pygments_lexer": "ipython3",
   "version": "3.9.13"
  }
 },
 "nbformat": 4,
 "nbformat_minor": 5
}
