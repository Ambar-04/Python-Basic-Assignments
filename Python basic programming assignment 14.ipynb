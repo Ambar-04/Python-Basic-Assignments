{
 "cells": [
  {
   "cell_type": "markdown",
   "id": "5bdb24af",
   "metadata": {},
   "source": [
    "### Question 1:\n",
    "Define a class with a generator which can iterate the numbers, which are divisible by\n",
    "7, between a given range 0 and n."
   ]
  },
  {
   "cell_type": "code",
   "execution_count": 1,
   "id": "f6a9dfe2",
   "metadata": {},
   "outputs": [
    {
     "name": "stdout",
     "output_type": "stream",
     "text": [
      "0\n",
      "7\n",
      "14\n",
      "21\n",
      "28\n",
      "35\n",
      "42\n",
      "49\n"
     ]
    }
   ],
   "source": [
    "class DivisibleBySeven:\n",
    "    def __init__(self, n):\n",
    "        self.n = n\n",
    "\n",
    "    def __iter__(self):\n",
    "        for i in range(self.n):\n",
    "            if i % 7 == 0:\n",
    "                yield i\n",
    "                \n",
    "                \n",
    "                \n",
    "my_obj = DivisibleBySeven(50)\n",
    "for num in my_obj:\n",
    "    print(num)"
   ]
  },
  {
   "cell_type": "markdown",
   "id": "933fc720",
   "metadata": {},
   "source": [
    "### Question 2:\n",
    "Write a program to compute the frequency of the words from the input. The output should output after sorting the key alphanumerically.\n",
    "\n",
    "\n",
    "\n",
    "Suppose the following input is supplied to the program:\n",
    "New to Python or choosing between Python 2 and Python 3? Read Python 2 or Python 3.\n",
    "\n",
    "\n",
    "\n",
    "Then, the output should be:\n",
    "\n",
    "2:2\n",
    "\n",
    "3.:1\n",
    "\n",
    "3?:1\n",
    "\n",
    "New:1\n",
    "\n",
    "Python:5\n",
    "\n",
    "Read:1\n",
    "\n",
    "and:1\n",
    "\n",
    "between:1\n",
    "\n",
    "choosing:1\n",
    "\n",
    "or:2\n",
    "\n",
    "to:1"
   ]
  },
  {
   "cell_type": "code",
   "execution_count": 23,
   "id": "a68cd8b0",
   "metadata": {},
   "outputs": [
    {
     "name": "stdout",
     "output_type": "stream",
     "text": [
      "Enter the string New to Python or choosing between Python 2 and Python 3? Read Python 2 or Python 3.\n",
      "2:2\n",
      "3.:1\n",
      "3?:1\n",
      "New:1\n",
      "Python:5\n",
      "Read:1\n",
      "and:1\n",
      "between:1\n",
      "choosing:1\n",
      "or:2\n",
      "to:1\n"
     ]
    }
   ],
   "source": [
    "string = input('Enter the string ').split()\n",
    "#print(set(string))\n",
    "word = sorted(set(string))     # sort alphbetically\n",
    "#print(word)\n",
    "for i in word:\n",
    "    print(\"{0}:{1}\".format(i,string.count(i))) #string.count(i) from 1st line,not sfter converting to set"
   ]
  },
  {
   "cell_type": "markdown",
   "id": "47595257",
   "metadata": {},
   "source": [
    "### Question 3:\n",
    "\n",
    "Define a class Person and its two child classes: Male and Female. All classes have a\n",
    "method &quot;getGender&quot; which can print &quot;Male&quot; for Male class and &quot;Female&quot; for Female\n",
    "class."
   ]
  },
  {
   "cell_type": "code",
   "execution_count": 24,
   "id": "59b21d12",
   "metadata": {},
   "outputs": [
    {
     "name": "stdout",
     "output_type": "stream",
     "text": [
      "Male\n",
      "Female\n"
     ]
    }
   ],
   "source": [
    "class Person():\n",
    "    def getGender( self ):\n",
    "        return \"Unknown\"\n",
    "\n",
    "class Male( Person ):\n",
    "    def getGender( self ):\n",
    "        return \"Male\"\n",
    "\n",
    "class Female( Person ):\n",
    "    def getGender( self ):\n",
    "        return \"Female\"\n",
    "    \n",
    "objMale = Male()\n",
    "objFemale= Female()\n",
    "print(objMale.getGender())\n",
    "print(objFemale.getGender())"
   ]
  },
  {
   "cell_type": "markdown",
   "id": "3df89da4",
   "metadata": {},
   "source": [
    "### Question 4:\n",
    "Please write a program to generate all sentences where subject is in [&quot;I&quot;, &quot;You&quot;] and\n",
    "verb is in [&quot;Play&quot;, &quot;Love&quot;] and the object is in [&quot;Hockey&quot;,&quot;Football&quot;]."
   ]
  },
  {
   "cell_type": "code",
   "execution_count": 25,
   "id": "a660753a",
   "metadata": {},
   "outputs": [
    {
     "name": "stdout",
     "output_type": "stream",
     "text": [
      "I   Play   Hockey\n",
      "I   Play   Football\n",
      "I   Love   Hockey\n",
      "I   Love   Football\n",
      "You   Play   Hockey\n",
      "You   Play   Football\n",
      "You   Love   Hockey\n",
      "You   Love   Football\n"
     ]
    }
   ],
   "source": [
    "sub=[\"I\", \"You\"] \n",
    "ver=[\"Play\", \"Love\"] \n",
    "obj= [\"Hockey\",\"Football\"]\n",
    "\n",
    "for i in sub:\n",
    "    for j in ver:\n",
    "        for k in obj:\n",
    "            print(i,\" \",j,\" \",k)"
   ]
  },
  {
   "cell_type": "markdown",
   "id": "f88959e7",
   "metadata": {},
   "source": [
    "### Question 5:\n",
    "Please write a program to compress and decompress the string &quot;hello world!hello\n",
    "world!hello world!hello world!&quot;."
   ]
  },
  {
   "cell_type": "code",
   "execution_count": 34,
   "id": "d77839a6",
   "metadata": {},
   "outputs": [
    {
     "name": "stdout",
     "output_type": "stream",
     "text": [
      "Original string: hello world!hello world!hello world!hello world!\n",
      "Decompressed string: hello world!hello world!hello world!hello world!\n"
     ]
    }
   ],
   "source": [
    "import gzip\n",
    "\n",
    "string_to_compress = \"hello world!hello world!hello world!hello world!\"\n",
    "\n",
    "\n",
    "compressed_data = gzip.compress(string_to_compress.encode('utf-8'))\n",
    "\n",
    "decompressed_data = gzip.decompress(compressed_data)\n",
    "\n",
    "# Print the original string and the decompressed string to confirm they match\n",
    "print(f\"Original string: {string_to_compress}\")\n",
    "print(f\"Decompressed string: {decompressed_data.decode('utf-8')}\")"
   ]
  },
  {
   "cell_type": "markdown",
   "id": "d1a6780e",
   "metadata": {},
   "source": [
    "### Question 6:\n",
    "Please write a binary search function which searches an item in a sorted list. The\n",
    "function should return the index of element to be searched in the list."
   ]
  },
  {
   "cell_type": "code",
   "execution_count": 39,
   "id": "f3e80188",
   "metadata": {},
   "outputs": [
    {
     "name": "stdout",
     "output_type": "stream",
     "text": [
      "9 4 5 2 3 1 8 6 7\n",
      "Enter the number to search: 5\n",
      "4\n"
     ]
    }
   ],
   "source": [
    "l=list(map(int,input().split()))\n",
    "l.sort()\n",
    "x=int(input(\"Enter the number to search: \"))\n",
    "for i in range(len(l)):\n",
    "    if l[i] == x:\n",
    "        print(i)"
   ]
  },
  {
   "cell_type": "code",
   "execution_count": 40,
   "id": "793aeae6",
   "metadata": {},
   "outputs": [
    {
     "name": "stdout",
     "output_type": "stream",
     "text": [
      "Found target value 7 at index 3\n"
     ]
    }
   ],
   "source": [
    "def binary_search(arr, target):\n",
    "    \"\"\"\n",
    "    Performs a binary search on a sorted list `arr` to find the index of `target`\n",
    "    Returns the index of `target` if found, or -1 if not found\n",
    "    \"\"\"\n",
    "    left, right = 0, len(arr) - 1\n",
    "    \n",
    "    while left <= right:\n",
    "        mid = (left + right) // 2\n",
    "        \n",
    "        if arr[mid] == target:\n",
    "            return mid\n",
    "        elif arr[mid] < target:\n",
    "            left = mid + 1\n",
    "        else:\n",
    "            right = mid - 1\n",
    "    \n",
    "    return -1\n",
    "\n",
    "\n",
    "\n",
    "my_list = [1, 3, 5, 7, 9, 11, 13, 15, 17, 19]\n",
    "target_value = 7\n",
    "\n",
    "index = binary_search(my_list, target_value)\n",
    "\n",
    "if index != -1:\n",
    "    print(f\"Found target value {target_value} at index {index}\")\n",
    "else:\n",
    "    print(f\"Target value {target_value} not found in list\")\n"
   ]
  },
  {
   "cell_type": "code",
   "execution_count": 41,
   "id": "cc9c4511",
   "metadata": {},
   "outputs": [],
   "source": [
    "# Please correct which of the above code is correct???? can the 1st code for problem 6 is correct way to solve or not???"
   ]
  },
  {
   "cell_type": "code",
   "execution_count": null,
   "id": "3b1d0869",
   "metadata": {},
   "outputs": [],
   "source": []
  }
 ],
 "metadata": {
  "kernelspec": {
   "display_name": "Python 3 (ipykernel)",
   "language": "python",
   "name": "python3"
  },
  "language_info": {
   "codemirror_mode": {
    "name": "ipython",
    "version": 3
   },
   "file_extension": ".py",
   "mimetype": "text/x-python",
   "name": "python",
   "nbconvert_exporter": "python",
   "pygments_lexer": "ipython3",
   "version": "3.9.13"
  }
 },
 "nbformat": 4,
 "nbformat_minor": 5
}
