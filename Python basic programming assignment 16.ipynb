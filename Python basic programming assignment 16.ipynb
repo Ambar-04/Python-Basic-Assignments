{
 "cells": [
  {
   "cell_type": "markdown",
   "id": "39a672e8",
   "metadata": {},
   "source": [
    "#### Question1.\n",
    "Write a function that stutters a word as if someone is struggling to read it. The\n",
    "first two letters are repeated twice with an ellipsis ... and space after each, and then the\n",
    "word is pronounced with a question mark ?.\n",
    "\n",
    "Examples\n",
    "\n",
    "stutter('incredible') ➞ 'in... in... incredible?'\n",
    "\n",
    "stutter('enthusiastic') ➞ 'en... en... enthusiastic?'\n",
    "\n",
    "stutter('outstanding') ➞ 'ou... ou... outstanding?'\n",
    "\n",
    "Hint :- Assume all input is in lower case and at least two characters long."
   ]
  },
  {
   "cell_type": "code",
   "execution_count": 31,
   "id": "2349571c",
   "metadata": {},
   "outputs": [
    {
     "name": "stdout",
     "output_type": "stream",
     "text": [
      "Enter word : incredible\n",
      "in... in... incredible?\n"
     ]
    }
   ],
   "source": [
    "def stutter(word):\n",
    "    return (2*(word[:2]+'... '))+word+'?'\n",
    "word = input('Enter word : ')\n",
    "print(stutter(word))"
   ]
  },
  {
   "cell_type": "markdown",
   "id": "fdc406c7",
   "metadata": {},
   "source": [
    "#### Question 2.\n",
    "Create a function that takes an angle in radians and returns the corresponding\n",
    "angle in degrees rounded to one decimal place.\n",
    "\n",
    "Examples\n",
    "\n",
    "radians_to_degrees(1) ➞ 57.3\n",
    "\n",
    "radians_to_degrees(20) ➞ 1145.9\n",
    "\n",
    "radians_to_degrees(50) ➞ 2864.8"
   ]
  },
  {
   "cell_type": "code",
   "execution_count": 33,
   "id": "19f8bff2",
   "metadata": {},
   "outputs": [],
   "source": [
    "def radians_to_degrees(radian):\n",
    "    pi = 3.14159\n",
    "    #formula\n",
    "    degree = radian * (180/pi)\n",
    "    return degree"
   ]
  },
  {
   "cell_type": "code",
   "execution_count": 38,
   "id": "44d45f32",
   "metadata": {},
   "outputs": [
    {
     "name": "stdout",
     "output_type": "stream",
     "text": [
      "57.3\n",
      "1145.9\n",
      "2864.8\n"
     ]
    }
   ],
   "source": [
    "print(round(radians_to_degrees(1),1))\n",
    "print(round(radians_to_degrees(20),1))\n",
    "print(round(radians_to_degrees(50),1))"
   ]
  },
  {
   "cell_type": "markdown",
   "id": "9564c6ac",
   "metadata": {},
   "source": [
    "#### Question 3.\n",
    "In this challenge, establish if a given integer num is a Curzon number. If 1 plus\n",
    "2 elevated to num is exactly divisible by 1 plus 2 multiplied by num, then num is a Curzon\n",
    "number.\n",
    "Given a non-negative integer num, implement a function that returns True if num is a Curzon\n",
    "number, or False otherwise.\n",
    "\n",
    "Examples:\n",
    "    \n",
    "is_curzon(5) ➞ True\n",
    "\n",
    " 2 ** 5 + 1 = 33\n",
    " \n",
    " 2 * 5 + 1 = 11\n",
    " \n",
    " 33 is a multiple of 11\n",
    "    \n",
    "is_curzon(10) ➞ False\n",
    "\n",
    " 2 ** 10 + 1 = 1025\n",
    " \n",
    " 2 * 10 + 1 = 21\n",
    " \n",
    " 1025 is not a multiple of 21\n",
    "    \n",
    "is_curzon(14) ➞ True\n",
    "\n",
    " 2 ** 14 + 1 = 16385\n",
    " \n",
    " 2 * 14 + 1 = 29\n",
    " \n",
    " 16385 is a multiple of 29"
   ]
  },
  {
   "cell_type": "code",
   "execution_count": 39,
   "id": "63cdf081",
   "metadata": {},
   "outputs": [],
   "source": [
    "def is_curzon(n):\n",
    "    x=2**n+1\n",
    "    y=2*n+1\n",
    "    if x%y==0:\n",
    "        return True\n",
    "    else:\n",
    "        return False"
   ]
  },
  {
   "cell_type": "code",
   "execution_count": 40,
   "id": "10886c6e",
   "metadata": {},
   "outputs": [
    {
     "name": "stdout",
     "output_type": "stream",
     "text": [
      "True\n",
      "False\n",
      "True\n"
     ]
    }
   ],
   "source": [
    "print(is_curzon(5))\n",
    "print(is_curzon(10))\n",
    "print(is_curzon(14))"
   ]
  },
  {
   "cell_type": "markdown",
   "id": "e423f375",
   "metadata": {},
   "source": [
    "#### Question 4.\n",
    "Given the side length x find the area of a hexagon.\n",
    "\n",
    "Examples\n",
    "\n",
    "area_of_hexagon(1) ➞ 2.6\n",
    "\n",
    "area_of_hexagon(2) ➞ 10.4\n",
    "\n",
    "area_of_hexagon(3) ➞ 23.4"
   ]
  },
  {
   "cell_type": "code",
   "execution_count": 43,
   "id": "452f4091",
   "metadata": {},
   "outputs": [
    {
     "data": {
      "text/plain": [
       "2.0"
      ]
     },
     "execution_count": 43,
     "metadata": {},
     "output_type": "execute_result"
    }
   ],
   "source": [
    "4**(1/2)"
   ]
  },
  {
   "cell_type": "code",
   "execution_count": 44,
   "id": "5a389e14",
   "metadata": {},
   "outputs": [],
   "source": [
    "def area_of_hexagon(s):\n",
    "    area=(3*(3**0.5)*(s**2))/2\n",
    "    return area"
   ]
  },
  {
   "cell_type": "code",
   "execution_count": 47,
   "id": "9d2853bf",
   "metadata": {},
   "outputs": [
    {
     "name": "stdout",
     "output_type": "stream",
     "text": [
      "2.6\n",
      "10.4\n",
      "23.4\n"
     ]
    }
   ],
   "source": [
    "print(round(area_of_hexagon(1),1))\n",
    "print(round(area_of_hexagon(2),1))\n",
    "print(round(area_of_hexagon(3),1))"
   ]
  },
  {
   "cell_type": "markdown",
   "id": "b5b6a749",
   "metadata": {},
   "source": [
    "#### Question 5.\n",
    "Create a function that returns a base-2 (binary) representation of a base-10\n",
    "(decimal) string number. To convert is simple: ((2) means base-2 and (10) means base-10)\n",
    "010101001(2) = 1 + 8 + 32 + 128.\n",
    "Going from right to left, the value of the most right bit is 1, now from that every bit to the left\n",
    "will be x2 the value, value of an 8 bit binary numbers are (256, 128, 64, 32, 16, 8, 4, 2, 1).\n",
    "\n",
    "Examples\n",
    "\n",
    "binary(1) ➞ '1'\n",
    "\n",
    " 1*1 = 1\n",
    "    \n",
    "binary(5) ➞ '101'\n",
    "\n",
    " 1* 1 + 1* 4 = 5\n",
    "    \n",
    "binary(10) ➞ '1010'\n",
    "\n",
    "1* 2 + 1* 8 = 10"
   ]
  },
  {
   "cell_type": "code",
   "execution_count": 51,
   "id": "ad1e13c0",
   "metadata": {},
   "outputs": [
    {
     "name": "stdout",
     "output_type": "stream",
     "text": [
      "1\n",
      "101\n",
      "1010\n"
     ]
    }
   ],
   "source": [
    "def binary(n):\n",
    "    return bin(n).replace(\"0b\", \"\")\n",
    "\n",
    "print(binary(1))\n",
    "print(binary(5))\n",
    "print(binary(10))"
   ]
  }
 ],
 "metadata": {
  "kernelspec": {
   "display_name": "Python 3 (ipykernel)",
   "language": "python",
   "name": "python3"
  },
  "language_info": {
   "codemirror_mode": {
    "name": "ipython",
    "version": 3
   },
   "file_extension": ".py",
   "mimetype": "text/x-python",
   "name": "python",
   "nbconvert_exporter": "python",
   "pygments_lexer": "ipython3",
   "version": "3.9.13"
  }
 },
 "nbformat": 4,
 "nbformat_minor": 5
}
