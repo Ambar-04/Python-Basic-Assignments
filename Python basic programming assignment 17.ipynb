{
 "cells": [
  {
   "cell_type": "markdown",
   "id": "0febb299",
   "metadata": {},
   "source": [
    "### Question1. Create a function that takes three arguments a, b, c and returns the sum of the\n",
    "numbers that are evenly divided by c from the range a, b inclusive.\n",
    "\n",
    "Examples\n",
    "\n",
    "evenly_divisible(1, 10, 20) ➞ 0\n",
    "##### No number between 1 and 10 can be evenly divided by 20.\n",
    "\n",
    "evenly_divisible(1, 10, 2) ➞ 30\n",
    "##### 2 + 4 + 6 + 8 + 10 = 30\n",
    "\n",
    "evenly_divisible(1, 10, 3) ➞ 18\n",
    "##### 3 + 6 + 9 = 18"
   ]
  },
  {
   "cell_type": "code",
   "execution_count": 5,
   "id": "71637104",
   "metadata": {},
   "outputs": [
    {
     "name": "stdout",
     "output_type": "stream",
     "text": [
      "0\n",
      "30\n",
      "18\n"
     ]
    }
   ],
   "source": [
    "def evenly_divisible(a,b,c):\n",
    "    s=0\n",
    "    for i in range(a,b+1):\n",
    "        if i%c==0:\n",
    "            s+=i\n",
    "            \n",
    "    return s\n",
    "\n",
    "print(evenly_divisible(1,10,20))\n",
    "print(evenly_divisible(1,10,2))\n",
    "print(evenly_divisible(1, 10, 3))"
   ]
  },
  {
   "cell_type": "markdown",
   "id": "e57fdce8",
   "metadata": {},
   "source": [
    "### Question2. \n",
    "Create a function that returns True if a given inequality expression is correct and\n",
    "False otherwise.\n",
    "\n",
    "\n",
    "Examples:\n",
    "\n",
    "correct_signs(&quot;3 &lt; 7 &lt; 11&quot;) ➞ True\n",
    "\n",
    "correct_signs(&quot;13 &gt; 44 &gt; 33 &gt; 1&quot;) ➞ False\n",
    "\n",
    "correct_signs(&quot;1 &lt; 2 &lt; 6 &lt; 9 &gt; 3&quot;) ➞ True"
   ]
  },
  {
   "cell_type": "code",
   "execution_count": 16,
   "id": "28e3d6aa",
   "metadata": {},
   "outputs": [
    {
     "name": "stdout",
     "output_type": "stream",
     "text": [
      "True\n",
      "False\n",
      "True\n"
     ]
    }
   ],
   "source": [
    "def correct_signs ( txt ) : \n",
    "    return eval ( txt )\n",
    "print(correct_signs(\"3 < 7 < 11\"))\n",
    "print(correct_signs(\"13 > 44 > 33 > 1\"))\n",
    "print(correct_signs(\"1 < 2 < 6 < 9 > 3\"))"
   ]
  },
  {
   "cell_type": "markdown",
   "id": "7a9a4096",
   "metadata": {},
   "source": [
    "### Question3.\n",
    "Create a function that replaces all the vowels in a string with a specified character.\n",
    "\n",
    "Examples:\n",
    "\n",
    "replace_vowels(&quot;the aardvark&quot;, &quot;#&quot;) ➞ &quot;th# ##rdv#rk&quot;\n",
    "\n",
    "replace_vowels(&quot;minnie mouse&quot;, &quot;?&quot;) ➞ &quot;m?nn?? m??s?&quot;\n",
    "\n",
    "replace_vowels(&quot;shakespeare&quot;, &quot;* &quot;) ➞ &quot;sh*k*sp**r*&quot;"
   ]
  },
  {
   "cell_type": "code",
   "execution_count": 32,
   "id": "5917252c",
   "metadata": {},
   "outputs": [],
   "source": [
    "def replace_vowels(t,c):\n",
    "    for i in t.lower():\n",
    "        if i in ['a','e','i','o','u']:\n",
    "            t=t.replace(i,c)\n",
    "        else:\n",
    "            pass\n",
    "    return t\n",
    "        "
   ]
  },
  {
   "cell_type": "code",
   "execution_count": 34,
   "id": "78613695",
   "metadata": {},
   "outputs": [
    {
     "name": "stdout",
     "output_type": "stream",
     "text": [
      "th# ##rdv#rk\n",
      "m?nn?? m??s?\n",
      "sh*k*sp**r*\n"
     ]
    }
   ],
   "source": [
    "print(replace_vowels('the aardvark', '#'))\n",
    "print(replace_vowels('minnie mouse', '?'))\n",
    "print(replace_vowels('shakespeare', '*'))"
   ]
  },
  {
   "cell_type": "markdown",
   "id": "6941224c",
   "metadata": {},
   "source": [
    "### Question4. \n",
    "\n",
    "Write a function that calculates the factorial of a number recursively.\n",
    "\n",
    "Examples:\n",
    "\n",
    "factorial(5) ➞ 120\n",
    "\n",
    "factorial(3) ➞ 6\n",
    "\n",
    "factorial(1) ➞ 1\n",
    "\n",
    "factorial(0) ➞ 1"
   ]
  },
  {
   "cell_type": "code",
   "execution_count": 38,
   "id": "abc10e8b",
   "metadata": {},
   "outputs": [
    {
     "name": "stdout",
     "output_type": "stream",
     "text": [
      "120\n"
     ]
    }
   ],
   "source": [
    "def factorial(n):\n",
    "    if n==0:\n",
    "        return 1\n",
    "    elif n==1:\n",
    "        return 1\n",
    "    elif n>1:\n",
    "        return n*factorial(n-1)\n",
    "    \n",
    "    \n",
    "print(factorial(5))"
   ]
  },
  {
   "cell_type": "markdown",
   "id": "72cdb236",
   "metadata": {},
   "source": [
    "### Question 5\n",
    "Hamming distance is the number of characters that differ between two strings.\n",
    "\n",
    "To illustrate:\n",
    "\n",
    "String1: &quot;abcbba&quot;\n",
    "\n",
    "String2: &quot;abcbda&quot;\n",
    "\n",
    "\n",
    "Hamming Distance: 1 - &quot;b&quot; vs. &quot;d&quot; is the only difference.\n",
    "\n",
    "Create a function that computes the hamming distance between two strings.\n",
    "\n",
    "Examples:\n",
    "\n",
    "hamming_distance(&quot;abcde&quot;, &quot;bcdef&quot;) ➞ 5\n",
    "\n",
    "hamming_distance(&quot;abcde&quot;, &quot;abcde&quot;) ➞ 0\n",
    "\n",
    "hamming_distance(&quot;strong&quot;, &quot;strung&quot;) ➞ 1"
   ]
  },
  {
   "cell_type": "code",
   "execution_count": 55,
   "id": "8ab2928b",
   "metadata": {},
   "outputs": [
    {
     "name": "stdout",
     "output_type": "stream",
     "text": [
      "5\n",
      "0\n",
      "1\n"
     ]
    }
   ],
   "source": [
    "def hamming_distance(str1, str2):\n",
    "    i = 0\n",
    "    count = 0\n",
    " \n",
    "    while(i < len(str1)):\n",
    "        if(str1[i] != str2[i]):\n",
    "            count += 1\n",
    "        i += 1\n",
    "    return count\n",
    " \n",
    "    \n",
    "    \n",
    "print(hamming_distance('abcde', 'bcdef'))\n",
    "print(hamming_distance('abcde', 'abcde'))\n",
    "print(hamming_distance('strong', 'strung'))"
   ]
  },
  {
   "cell_type": "code",
   "execution_count": 56,
   "id": "f77a329c",
   "metadata": {},
   "outputs": [
    {
     "name": "stdout",
     "output_type": "stream",
     "text": [
      "5\n",
      "0\n",
      "1\n"
     ]
    }
   ],
   "source": [
    "def hamming_distance(str1, str2):\n",
    "    return sum(ch1 != ch2 for ch1, ch2 in zip(str1, str2))\n",
    "\n",
    "\n",
    "print(hamming_distance('abcde', 'bcdef'))\n",
    "print(hamming_distance('abcde', 'abcde'))\n",
    "print(hamming_distance('strong', 'strung'))"
   ]
  },
  {
   "cell_type": "code",
   "execution_count": 59,
   "id": "9845533a",
   "metadata": {},
   "outputs": [
    {
     "data": {
      "text/plain": [
       "[('a', 'b'), ('b', 'c'), ('c', 'd'), ('d', 'e'), ('e', 'f')]"
      ]
     },
     "execution_count": 59,
     "metadata": {},
     "output_type": "execute_result"
    }
   ],
   "source": [
    "list(zip('abcde', 'bcdef'))"
   ]
  },
  {
   "cell_type": "code",
   "execution_count": null,
   "id": "d7379cc1",
   "metadata": {},
   "outputs": [],
   "source": []
  }
 ],
 "metadata": {
  "kernelspec": {
   "display_name": "Python 3 (ipykernel)",
   "language": "python",
   "name": "python3"
  },
  "language_info": {
   "codemirror_mode": {
    "name": "ipython",
    "version": 3
   },
   "file_extension": ".py",
   "mimetype": "text/x-python",
   "name": "python",
   "nbconvert_exporter": "python",
   "pygments_lexer": "ipython3",
   "version": "3.9.13"
  }
 },
 "nbformat": 4,
 "nbformat_minor": 5
}
