{
 "cells": [
  {
   "cell_type": "markdown",
   "id": "b711aa43",
   "metadata": {},
   "source": [
    "#### Question 1:\n",
    "Write a program that calculates and prints the value according to the given formula:\n",
    "Q = Square root of [(2 * C * D)/H]\n",
    "\n",
    "\n",
    "Following are the fixed values of C and H:\n",
    "C is 50. H is 30.\n",
    "\n",
    "\n",
    "\n",
    "D is the variable whose values should be input to your program in a comma-separated\n",
    "sequence.\n",
    "\n",
    "\n",
    "\n",
    "Example\n",
    "Let us assume the following comma separated input sequence is given to the program:\n",
    "100,150,180\n",
    "\n",
    "\n",
    "The output of the program should be:\n",
    "18,22,24"
   ]
  },
  {
   "cell_type": "code",
   "execution_count": 12,
   "id": "701257a6",
   "metadata": {},
   "outputs": [
    {
     "name": "stdout",
     "output_type": "stream",
     "text": [
      "100,150,180\n",
      "OUTPUT OF THE PROGRAM:\n",
      "18\n",
      "22\n",
      "24\n"
     ]
    }
   ],
   "source": [
    "import numpy as np\n",
    "import math\n",
    "C=50\n",
    "H=30\n",
    "l=list(map(int,input().split(\",\")))\n",
    "l1=[np.sqrt((2*C*i)/H) for i in l]\n",
    "#print(l1)\n",
    "print(\"OUTPUT OF THE PROGRAM:\")\n",
    "for i in l1:\n",
    "    print(math.floor(i))"
   ]
  },
  {
   "cell_type": "markdown",
   "id": "14f776d3",
   "metadata": {},
   "source": [
    "#### Question 2:\n",
    "Write a program which takes 2 digits, X,Y as input and generates a 2-dimensional array. The\n",
    "element value in the i-th row and j-th column of the array should be i*j.\n",
    "\n",
    "\n",
    "\n",
    "Note: i=0,1.., X-1; j=0,1,..Y-1.\n",
    "\n",
    "\n",
    "Example\n",
    "Suppose the following inputs are given to the program:\n",
    "3,5\n",
    "\n",
    "\n",
    "\n",
    "Then, the output of the program should be:\n",
    "[[0, 0, 0, 0, 0], [0, 1, 2, 3, 4], [0, 2, 4, 6, 8]]"
   ]
  },
  {
   "cell_type": "code",
   "execution_count": 26,
   "id": "b8ae9315",
   "metadata": {},
   "outputs": [
    {
     "name": "stdout",
     "output_type": "stream",
     "text": [
      "Enter number of rows: 3\n",
      "Enter number of columns: 5\n",
      "[[0, 0, 0, 0, 0], [0, 1, 2, 3, 4], [0, 2, 4, 6, 8]]\n"
     ]
    }
   ],
   "source": [
    "x=int(input(\"Enter number of rows: \"))\n",
    "y=int(input(\"Enter number of columns: \"))\n",
    "l=[]\n",
    "for i in range(x):\n",
    "    #store row\n",
    "    row =[]  #after filling up row inside j loop again assigning back to empty list\n",
    "    for j in range(y):\n",
    "        row.append(i*j)\n",
    "    l.append(row)\n",
    "print(l)"
   ]
  },
  {
   "cell_type": "markdown",
   "id": "7302952d",
   "metadata": {},
   "source": [
    "#### Question 3:\n",
    "\n",
    "Write a program that accepts a comma separated sequence of words as input and prints the words in a comma-separated sequence after sorting them alphabetically.\n",
    "\n",
    "\n",
    "Suppose the following input is supplied to the program:\n",
    "without,hello,bag,world\n",
    "\n",
    "\n",
    "\n",
    "Then, the output should be:\n",
    "bag,hello,without,world"
   ]
  },
  {
   "cell_type": "code",
   "execution_count": 31,
   "id": "4e7447a3",
   "metadata": {},
   "outputs": [
    {
     "name": "stdout",
     "output_type": "stream",
     "text": [
      "without,hello,bag,world\n",
      "OUTPUT:\n",
      "bag,hello,without,world\n"
     ]
    }
   ],
   "source": [
    "l=list(map(str,input().split(\",\")))\n",
    "l.sort()\n",
    "print(\"OUTPUT:\")\n",
    "print(\",\".join(l))"
   ]
  },
  {
   "cell_type": "markdown",
   "id": "2edcb90a",
   "metadata": {},
   "source": [
    "#### Question 4:\n",
    "Write a program that accepts a sequence of whitespace separated words as input and prints the words after removing all duplicate words and sorting them alphanumerically.\n",
    "\n",
    "\n",
    "\n",
    "Suppose the following input is supplied to the program:\n",
    "hello world and practice makes perfect and hello world again\n",
    "\n",
    "\n",
    "\n",
    "\n",
    "Then, the output should be:\n",
    "again and hello makes perfect practice world"
   ]
  },
  {
   "cell_type": "code",
   "execution_count": 39,
   "id": "c522deb0",
   "metadata": {},
   "outputs": [
    {
     "name": "stdout",
     "output_type": "stream",
     "text": [
      "hello world and practice makes perfect and hello world again\n",
      "OUTPUT:\n",
      "again and hello makes perfect practice world\n"
     ]
    }
   ],
   "source": [
    "s=set(map(str,input().split(\" \")))\n",
    "s1=sorted(s)\n",
    "print(\"OUTPUT:\")\n",
    "print(\" \".join(list(s1)))"
   ]
  },
  {
   "cell_type": "markdown",
   "id": "b5319cd7",
   "metadata": {},
   "source": [
    "#### Question 5:\n",
    "Write a program that accepts a sentence and calculate the number of letters and digits.\n",
    "\n",
    "\n",
    "Suppose the following input is supplied to the program:\n",
    "hello world! 123\n",
    "\n",
    "\n",
    "Then, the output should be:\n",
    "\n",
    "\n",
    "LETTERS 10\n",
    "\n",
    "DIGITS 3"
   ]
  },
  {
   "cell_type": "code",
   "execution_count": 45,
   "id": "36e81a1e",
   "metadata": {},
   "outputs": [
    {
     "name": "stdout",
     "output_type": "stream",
     "text": [
      "Input a string : hello world! 123\n",
      "Letters 10\n",
      "Digits 3\n"
     ]
    }
   ],
   "source": [
    "s = input(\"Input a string : \")\n",
    "digits=letters=0\n",
    "for c in s:\n",
    "    if c.isdigit():\n",
    "        digits += 1\n",
    "    elif c.isalpha():\n",
    "        letters += 1\n",
    "    else:\n",
    "        pass\n",
    "print(\"Letters\", letters)\n",
    "print(\"Digits\", digits)"
   ]
  },
  {
   "cell_type": "markdown",
   "id": "2bb6d397",
   "metadata": {},
   "source": [
    "#### Question 6:\n",
    "A website requires the users to input username and password to register. Write a program to check the validity of password input by users.\n",
    "\n",
    "Following are the criteria for checking the password:\n",
    "1. At least 1 letter between [a-z]\n",
    "2. At least 1 number between [0-9]\n",
    "1. At least 1 letter between [A-Z]\n",
    "3. At least 1 character from [$#@]\n",
    "4. Minimum length of transaction password: 6\n",
    "5. Maximum length of transaction password: 12\n",
    "\n",
    "\n",
    "Your program should accept a sequence of comma separated passwords and will check them according to the above criteria. Passwords that match the criteria are to be printed, each separated by a comma.\n",
    "\n",
    "\n",
    "\n",
    "Example:\n",
    "\n",
    "\n",
    "If the following passwords are given as input to the program:\n",
    "ABd1234@1,a F1#,2w3E*,2We3345\n",
    "\n",
    "\n",
    "\n",
    "Then, the output of the program should be:\n",
    "ABd1234@1"
   ]
  },
  {
   "cell_type": "code",
   "execution_count": 70,
   "id": "49e9e596",
   "metadata": {},
   "outputs": [
    {
     "name": "stdout",
     "output_type": "stream",
     "text": [
      "ABd1234@1,a F1#,2w3E*,2We3345\n",
      "['ABd1234@1', '2We3345']\n"
     ]
    }
   ],
   "source": [
    "import re\n",
    "l=list(map(str,input().split(\",\")))\n",
    "s=[]\n",
    "for i in l:\n",
    "    if len(i) in range(6,13):\n",
    "        for c in i:\n",
    "            if ord(c) in range(65,91) and ord(c) in range(97,123) and c.isdigit() and c in [\"$\",\"#\",\"@\"]:\n",
    "                break\n",
    "        s.append(i)\n",
    "print(s)"
   ]
  },
  {
   "cell_type": "markdown",
   "id": "7d5a3298",
   "metadata": {},
   "source": [
    "## Please correct me in the above approach where I am making mistake????"
   ]
  },
  {
   "cell_type": "code",
   "execution_count": 65,
   "id": "2eef4bdf",
   "metadata": {},
   "outputs": [
    {
     "name": "stdout",
     "output_type": "stream",
     "text": [
      "ABd1234@1,a F1#,2w3E*,2We3345\n",
      "ABd1234@1\n"
     ]
    }
   ],
   "source": [
    "import re\n",
    "\n",
    "# regular expression \n",
    "pattern = r\"^(?=.*[a-z])(?=.*[A-Z])(?=.*\\d)(?=.*[$#@])[A-Za-z\\d$#@]{6,12}$\"\n",
    "\n",
    "l=list(map(str,input().split(\",\")))\n",
    "\n",
    "# loop through the passwords and check if they match the criteria\n",
    "valid_passwords = []\n",
    "for password in l:\n",
    "    if re.match(pattern, password):\n",
    "        valid_passwords.append(password)\n",
    "\n",
    "# print the valid passwords separated by comma\n",
    "print(\",\".join(valid_passwords))"
   ]
  },
  {
   "cell_type": "code",
   "execution_count": null,
   "id": "76843f34",
   "metadata": {},
   "outputs": [],
   "source": []
  }
 ],
 "metadata": {
  "kernelspec": {
   "display_name": "Python 3 (ipykernel)",
   "language": "python",
   "name": "python3"
  },
  "language_info": {
   "codemirror_mode": {
    "name": "ipython",
    "version": 3
   },
   "file_extension": ".py",
   "mimetype": "text/x-python",
   "name": "python",
   "nbconvert_exporter": "python",
   "pygments_lexer": "ipython3",
   "version": "3.9.13"
  }
 },
 "nbformat": 4,
 "nbformat_minor": 5
}
