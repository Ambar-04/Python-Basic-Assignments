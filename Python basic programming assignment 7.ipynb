{
 "cells": [
  {
   "cell_type": "code",
   "execution_count": 2,
   "id": "bdd84dbd",
   "metadata": {},
   "outputs": [
    {
     "data": {
      "text/plain": [
       "26"
      ]
     },
     "execution_count": 2,
     "metadata": {},
     "output_type": "execute_result"
    }
   ],
   "source": [
    "#Write a Python Program to find sum of array?\n",
    "import numpy as np\n",
    "l=[4,8,6,1,7]\n",
    "a=np.array(l)\n",
    "np.sum(a)"
   ]
  },
  {
   "cell_type": "code",
   "execution_count": 3,
   "id": "4b04ba2c",
   "metadata": {},
   "outputs": [
    {
     "data": {
      "text/plain": [
       "8"
      ]
     },
     "execution_count": 3,
     "metadata": {},
     "output_type": "execute_result"
    }
   ],
   "source": [
    "#Write a Python Program to find largest element in an array?\n",
    "np.max(a)"
   ]
  },
  {
   "cell_type": "code",
   "execution_count": 10,
   "id": "e3e15824",
   "metadata": {},
   "outputs": [
    {
     "data": {
      "text/plain": [
       "array([7, 1, 6, 8, 4])"
      ]
     },
     "execution_count": 10,
     "metadata": {},
     "output_type": "execute_result"
    }
   ],
   "source": [
    "##Write a Python Program for array rotation?\n",
    "a[::-1]"
   ]
  },
  {
   "cell_type": "code",
   "execution_count": 9,
   "id": "cc398ecc",
   "metadata": {
    "scrolled": true
   },
   "outputs": [
    {
     "name": "stdout",
     "output_type": "stream",
     "text": [
      "Enter the lenth of your list : 5\n",
      "7\n",
      "6\n",
      "9\n",
      "1\n",
      "11\n",
      "The List is  [7, 6, 9, 1, 11]\n",
      "Enter Rotation Right/Left : left\n",
      "Enter the number of elements to rotate < : 3\n",
      "After Left rotation :  [1, 11, 7, 6, 9]\n"
     ]
    }
   ],
   "source": [
    "##Write a Python Program for array rotation?\n",
    "n = int(input(\"Enter the lenth of your list : \"))\n",
    "lst = []\n",
    "\n",
    "for i in range(n):\n",
    "    lst.append(int(input()))\n",
    "print(\"The List is \",lst)\n",
    "rotation = input(\"Enter Rotation Right/Left : \")\n",
    "nele = int(input(\"Enter the number of elements to rotate < : \"))\n",
    "if nele > n:\n",
    "    print(\"can not rotate as elements to rotate is larger then list lengh\")\n",
    "else:\n",
    "    rlst = []\n",
    "    if rotation.upper() == \"RIGHT\":\n",
    "        rlst[:] = lst[-nele:] + lst[:(n-nele)]\n",
    "        print(\"After right rotation : \",rlst)\n",
    "    elif rotation.upper() == \"LEFT\":\n",
    "        rlst[:] = lst[nele:] + lst[:nele] \n",
    "        print(\"After Left rotation : \",rlst)\n",
    "    else:\n",
    "        print(\"Invalid Entry\")"
   ]
  },
  {
   "cell_type": "code",
   "execution_count": 24,
   "id": "7c414619",
   "metadata": {},
   "outputs": [
    {
     "name": "stdout",
     "output_type": "stream",
     "text": [
      "Enter element in array one by one with space: \n",
      "2 3 5 6 4 8 10 7 1\n",
      "Enter the number of elements to split : 3\n",
      "[6, 4, 8, 10, 7, 1, 2, 3, 5]\n"
     ]
    }
   ],
   "source": [
    "#Write a Python Program to Split the array and add the first part to the end?\n",
    "\n",
    "print(\"Enter element in array one by one with space: \")\n",
    "l=list(map(int, input().split()))\n",
    "n=int(input('Enter the number of elements to split : '))\n",
    "print(l[n:] + l[:n] )"
   ]
  },
  {
   "cell_type": "code",
   "execution_count": 28,
   "id": "43bc0d2f",
   "metadata": {},
   "outputs": [
    {
     "name": "stdout",
     "output_type": "stream",
     "text": [
      "Enter element in array one by one with space: \n",
      "1 2 3 2 6 9 10\n",
      "Not Monotonic\n"
     ]
    }
   ],
   "source": [
    "#Write a Python Program to check if given array is Monotonic?\n",
    "\n",
    "print(\"Enter element in array one by one with space: \")\n",
    "lst=list(map(int, input().split()))\n",
    "\n",
    "if all((lst[i] <= lst[i+1] for i in range(len(lst)-1)) or (lst[i] >= lst[i+1] for i in range(len(lst)-1))):\n",
    "    print(\"Monotonic\")\n",
    "else:\n",
    "    print(\"Not Monotonic\")"
   ]
  },
  {
   "cell_type": "code",
   "execution_count": null,
   "id": "6af58861",
   "metadata": {},
   "outputs": [],
   "source": []
  }
 ],
 "metadata": {
  "kernelspec": {
   "display_name": "Python 3 (ipykernel)",
   "language": "python",
   "name": "python3"
  },
  "language_info": {
   "codemirror_mode": {
    "name": "ipython",
    "version": 3
   },
   "file_extension": ".py",
   "mimetype": "text/x-python",
   "name": "python",
   "nbconvert_exporter": "python",
   "pygments_lexer": "ipython3",
   "version": "3.9.13"
  }
 },
 "nbformat": 4,
 "nbformat_minor": 5
}
