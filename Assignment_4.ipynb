{
 "cells": [
  {
   "cell_type": "markdown",
   "id": "fd5842ba",
   "metadata": {},
   "source": [
    "## 1. What exactly is [ ]?\n",
    "[] is a emplty list, like a =[]"
   ]
  },
  {
   "cell_type": "markdown",
   "id": "9094614a",
   "metadata": {},
   "source": [
    "## 2. In a list of values stored in a variable called spam, how would you assign the value hello' as the third value? (Assume [2, 4, 6, 8, 10] are in spam.)"
   ]
  },
  {
   "cell_type": "code",
   "execution_count": 1,
   "id": "978a871f",
   "metadata": {},
   "outputs": [
    {
     "data": {
      "text/plain": [
       "[2, 4, 'hello', 8, 10]"
      ]
     },
     "execution_count": 1,
     "metadata": {},
     "output_type": "execute_result"
    }
   ],
   "source": [
    "# solution by changing the value in index 3\n",
    "spam = [2, 4, 6, 8, 10]\n",
    "spam[2] = 'hello'\n",
    "spam"
   ]
  },
  {
   "cell_type": "code",
   "execution_count": 2,
   "id": "849ca7cd",
   "metadata": {},
   "outputs": [
    {
     "data": {
      "text/plain": [
       "[2, 4, 'hello', 6, 8, 10]"
      ]
     },
     "execution_count": 2,
     "metadata": {},
     "output_type": "execute_result"
    }
   ],
   "source": [
    "# solution by inserting value in 3rd index\n",
    "spam = [2, 4, 6, 8, 10]\n",
    "spam.insert(2,'hello')\n",
    "spam"
   ]
  },
  {
   "cell_type": "markdown",
   "id": "08ba9def",
   "metadata": {},
   "source": [
    "## Lets pretend the spam includes the list ['a', 'b','c','d'] for the next three queries.\n",
    "## 3. What is the value of spam[int(int(3 * 2) / 11)]?"
   ]
  },
  {
   "cell_type": "code",
   "execution_count": 5,
   "id": "90459c4b",
   "metadata": {},
   "outputs": [
    {
     "data": {
      "text/plain": [
       "'d'"
      ]
     },
     "execution_count": 5,
     "metadata": {},
     "output_type": "execute_result"
    }
   ],
   "source": [
    "spam = ['a', 'b','c','d']\n",
    "spam[int(int('3' * 2) / 11)] # spam[int(33/11)] = spam[3]"
   ]
  },
  {
   "cell_type": "markdown",
   "id": "d8d797c1",
   "metadata": {},
   "source": [
    "## 4. What is the value of spam[-1]?"
   ]
  },
  {
   "cell_type": "code",
   "execution_count": 6,
   "id": "0fde477e",
   "metadata": {},
   "outputs": [
    {
     "data": {
      "text/plain": [
       "'d'"
      ]
     },
     "execution_count": 6,
     "metadata": {},
     "output_type": "execute_result"
    }
   ],
   "source": [
    "spam = ['a', 'b','c','d']\n",
    "spam[-1] # negative index # d"
   ]
  },
  {
   "cell_type": "markdown",
   "id": "171c4a4d",
   "metadata": {},
   "source": [
    "## 5. What is the value of spam[:2]?"
   ]
  },
  {
   "cell_type": "code",
   "execution_count": 7,
   "id": "e1711a60",
   "metadata": {},
   "outputs": [
    {
     "data": {
      "text/plain": [
       "['a', 'b']"
      ]
     },
     "execution_count": 7,
     "metadata": {},
     "output_type": "execute_result"
    }
   ],
   "source": [
    "spam[:2] # c"
   ]
  },
  {
   "cell_type": "markdown",
   "id": "a0176327",
   "metadata": {},
   "source": [
    "## Let's pretend bacon has the list [3.14, 'cat' 11, 'cat' True] for the next three questions.\n",
    "## 6. What is the value of bacon.index('cat')?"
   ]
  },
  {
   "cell_type": "code",
   "execution_count": 8,
   "id": "56362b72",
   "metadata": {},
   "outputs": [
    {
     "data": {
      "text/plain": [
       "1"
      ]
     },
     "execution_count": 8,
     "metadata": {},
     "output_type": "execute_result"
    }
   ],
   "source": [
    "bacon = [3.14, 'cat', 11, 'cat', True]\n",
    "bacon.index('cat') # it returns the index of first occurrence of 'cat'"
   ]
  },
  {
   "cell_type": "markdown",
   "id": "ebc85d8c",
   "metadata": {},
   "source": [
    "## 7. How does bacon.append(99) change the look of the list value in bacon?"
   ]
  },
  {
   "cell_type": "code",
   "execution_count": 9,
   "id": "7cda6f8b",
   "metadata": {},
   "outputs": [
    {
     "data": {
      "text/plain": [
       "[3.14, 'cat', 11, 'cat', True, 99]"
      ]
     },
     "execution_count": 9,
     "metadata": {},
     "output_type": "execute_result"
    }
   ],
   "source": [
    "bacon = [3.14, 'cat', 11, 'cat', True]\n",
    "bacon.append(99) # append adds the item at the end of the list\n",
    "bacon"
   ]
  },
  {
   "cell_type": "markdown",
   "id": "aa9079b9",
   "metadata": {},
   "source": [
    "## 8. How does bacon.remove('cat') change the look of the list in bacon?"
   ]
  },
  {
   "cell_type": "code",
   "execution_count": 12,
   "id": "8abc31f8",
   "metadata": {},
   "outputs": [
    {
     "data": {
      "text/plain": [
       "[3.14, 11, 'cat', True]"
      ]
     },
     "execution_count": 12,
     "metadata": {},
     "output_type": "execute_result"
    }
   ],
   "source": [
    "bacon = [3.14, 'cat', 11, 'cat', True]\n",
    "bacon.remove('cat') # remove first occurrence of item\n",
    "bacon"
   ]
  },
  {
   "cell_type": "markdown",
   "id": "9fd79abb",
   "metadata": {},
   "source": [
    "## 9. What are the list concatenation and list replication operators?\n",
    "- '*' -> is list replication operatotor\n",
    "\n",
    "\n",
    "\n",
    "- '+' -> is list cancatination operator"
   ]
  },
  {
   "cell_type": "code",
   "execution_count": 13,
   "id": "0deb4928",
   "metadata": {},
   "outputs": [
    {
     "data": {
      "text/plain": [
       "[1, 3, 7, 9]"
      ]
     },
     "execution_count": 13,
     "metadata": {},
     "output_type": "execute_result"
    }
   ],
   "source": [
    "l1 = [1,3]\n",
    "l2 = [7,9]\n",
    "# list concatination\n",
    "l1+l2"
   ]
  },
  {
   "cell_type": "code",
   "execution_count": 14,
   "id": "0a38e31c",
   "metadata": {},
   "outputs": [
    {
     "data": {
      "text/plain": [
       "[1, 3, 1, 3, 1, 3]"
      ]
     },
     "execution_count": 14,
     "metadata": {},
     "output_type": "execute_result"
    }
   ],
   "source": [
    "l1 = [1,3]\n",
    "\n",
    "# list replication\n",
    "l1*3"
   ]
  },
  {
   "cell_type": "markdown",
   "id": "ee91f235",
   "metadata": {},
   "source": [
    "## 10. What is difference between the list methods append() and insert()?\n",
    "append() ->Appends object to the end of the list\n",
    "\n",
    "\n",
    "\n",
    "insert() -> Insert object before index"
   ]
  },
  {
   "cell_type": "code",
   "execution_count": 15,
   "id": "7d30e97e",
   "metadata": {},
   "outputs": [
    {
     "data": {
      "text/plain": [
       "[3.14, 'cat', 11, 'cat', True, 99]"
      ]
     },
     "execution_count": 15,
     "metadata": {},
     "output_type": "execute_result"
    }
   ],
   "source": [
    "bacon = [3.14, 'cat', 11, 'cat', True]\n",
    "bacon.append(99) # append adds the item at the end of the list\n",
    "bacon"
   ]
  },
  {
   "cell_type": "code",
   "execution_count": 16,
   "id": "c68c6ac5",
   "metadata": {},
   "outputs": [
    {
     "data": {
      "text/plain": [
       "[2, 4, 'hello', 6, 8, 10]"
      ]
     },
     "execution_count": 16,
     "metadata": {},
     "output_type": "execute_result"
    }
   ],
   "source": [
    "# solution by inserting value in 3rd index\n",
    "spam = [2, 4, 6, 8, 10]\n",
    "spam.insert(2,'hello')\n",
    "spam"
   ]
  },
  {
   "cell_type": "markdown",
   "id": "c183f5ed",
   "metadata": {},
   "source": [
    "## 11. What are the two methods for removing items from a list?\n",
    "remove(item) - removeds first occurence of a item\n",
    "\n",
    "\n",
    "pop() - Remove and returns item at index (default last).\n",
    "\n",
    "\n",
    "del(list) - deletes the list"
   ]
  },
  {
   "cell_type": "code",
   "execution_count": 17,
   "id": "dc1e837b",
   "metadata": {},
   "outputs": [
    {
     "data": {
      "text/plain": [
       "[3.14, 11, 'cat', True]"
      ]
     },
     "execution_count": 17,
     "metadata": {},
     "output_type": "execute_result"
    }
   ],
   "source": [
    "bacon = [3.14, 'cat', 11, 'cat', True]\n",
    "bacon.remove('cat')\n",
    "bacon\n"
   ]
  },
  {
   "cell_type": "code",
   "execution_count": 18,
   "id": "0e0cf33a",
   "metadata": {},
   "outputs": [
    {
     "data": {
      "text/plain": [
       "[3.14, 'cat', 11, 'cat']"
      ]
     },
     "execution_count": 18,
     "metadata": {},
     "output_type": "execute_result"
    }
   ],
   "source": [
    "bacon = [3.14, 'cat', 11, 'cat', True]\n",
    "bacon.pop()\n",
    "bacon"
   ]
  },
  {
   "cell_type": "markdown",
   "id": "93aed226",
   "metadata": {},
   "source": [
    "## 12. Describe how list values and string values are identical.\n",
    "1. Both lists and strings can be passed to len()\n",
    "2. Have indexes and slices\n",
    "3. Can be used in for loops\n",
    "4. Can be concatenated or replicated\n",
    "5. Can be used with the in and not in operators"
   ]
  },
  {
   "cell_type": "markdown",
   "id": "d0613ee1",
   "metadata": {},
   "source": [
    "## 13. What's the difference between tuples and lists?\n",
    "Lists :\n",
    "are mutable - they can have values added, removed, or changed. \n",
    "lists use the square brackets, [ and ]\n",
    "\n",
    "\n",
    "\n",
    "\n",
    "Tuples :\n",
    "are immutable; they cannot be changed at all. \n",
    "Tuples are written using parentheses, ( and ) while "
   ]
  },
  {
   "cell_type": "markdown",
   "id": "895cbade",
   "metadata": {},
   "source": [
    "## 14. How do you type a tuple value that only contains the integer 42?"
   ]
  },
  {
   "cell_type": "code",
   "execution_count": 22,
   "id": "5d07be26",
   "metadata": {},
   "outputs": [
    {
     "data": {
      "text/plain": [
       "(42,)"
      ]
     },
     "execution_count": 22,
     "metadata": {},
     "output_type": "execute_result"
    }
   ],
   "source": [
    "t=(42,)\n",
    "t"
   ]
  },
  {
   "cell_type": "code",
   "execution_count": 23,
   "id": "ed289534",
   "metadata": {},
   "outputs": [
    {
     "data": {
      "text/plain": [
       "tuple"
      ]
     },
     "execution_count": 23,
     "metadata": {},
     "output_type": "execute_result"
    }
   ],
   "source": [
    "type(t)"
   ]
  },
  {
   "cell_type": "markdown",
   "id": "e78a011f",
   "metadata": {},
   "source": [
    "## 15. How do you get a list value's tuple form? How do you get a tuple value's list form?\n",
    "By using tuple() and list() functions"
   ]
  },
  {
   "cell_type": "code",
   "execution_count": 24,
   "id": "f6c9cba2",
   "metadata": {},
   "outputs": [
    {
     "data": {
      "text/plain": [
       "(2, 3)"
      ]
     },
     "execution_count": 24,
     "metadata": {},
     "output_type": "execute_result"
    }
   ],
   "source": [
    "l1 = [2,3]\n",
    "l = tuple(l1)\n",
    "l"
   ]
  },
  {
   "cell_type": "code",
   "execution_count": 25,
   "id": "5690d3ac",
   "metadata": {},
   "outputs": [
    {
     "data": {
      "text/plain": [
       "[3, 4]"
      ]
     },
     "execution_count": 25,
     "metadata": {},
     "output_type": "execute_result"
    }
   ],
   "source": [
    "t1 = (3,4)\n",
    "t = list(t1)\n",
    "t"
   ]
  },
  {
   "cell_type": "markdown",
   "id": "c6646711",
   "metadata": {},
   "source": [
    "## 16. Variables that \"contain\" list values are not necessarily lists themselves. Instead, what do they contain?\n",
    "They contain references to list values\n",
    "## 17. How do you distinguish between copy.copy() and copy.deepcopy()?\n",
    "The copy.copy() function will do a shallow copy of a list, \n",
    "\n",
    "The copy.deepcopy() function will do a deep copy of a list. only copy.deepcopy() will duplicate any lists inside the \n",
    "list"
   ]
  },
  {
   "cell_type": "code",
   "execution_count": null,
   "id": "c92a26dc",
   "metadata": {},
   "outputs": [],
   "source": []
  }
 ],
 "metadata": {
  "kernelspec": {
   "display_name": "Python 3 (ipykernel)",
   "language": "python",
   "name": "python3"
  },
  "language_info": {
   "codemirror_mode": {
    "name": "ipython",
    "version": 3
   },
   "file_extension": ".py",
   "mimetype": "text/x-python",
   "name": "python",
   "nbconvert_exporter": "python",
   "pygments_lexer": "ipython3",
   "version": "3.9.13"
  }
 },
 "nbformat": 4,
 "nbformat_minor": 5
}
