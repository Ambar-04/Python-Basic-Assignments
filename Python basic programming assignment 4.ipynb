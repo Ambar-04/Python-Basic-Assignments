{
 "cells": [
  {
   "cell_type": "code",
   "execution_count": 11,
   "id": "57c1e521",
   "metadata": {},
   "outputs": [
    {
     "name": "stdout",
     "output_type": "stream",
     "text": [
      "Enter the number: 6\n"
     ]
    },
    {
     "data": {
      "text/plain": [
       "720"
      ]
     },
     "execution_count": 11,
     "metadata": {},
     "output_type": "execute_result"
    }
   ],
   "source": [
    "#Write a Python Program to Find the Factorial of a Number?\n",
    "\n",
    "def fact(n):\n",
    "    f=1\n",
    "    if n < 0:\n",
    "        print(\"Can not calculate Factorial of a negative number\")\n",
    "    elif n == 0:\n",
    "        print(\"Factorial of zero is 1\")\n",
    "    elif n == 1:\n",
    "        print(f\"Factorial of {n} is 1\")\n",
    "    else:\n",
    "        for i in range(2,n+1):\n",
    "            f=f*i\n",
    "        return f\n",
    "\n",
    "x=int(input(\"Enter the number: \"))   \n",
    "fact(x)"
   ]
  },
  {
   "cell_type": "code",
   "execution_count": 12,
   "id": "abd19836",
   "metadata": {},
   "outputs": [
    {
     "name": "stdout",
     "output_type": "stream",
     "text": [
      "Enter the number: 10\n",
      "Multiplication table\n",
      "1 X 10 = 10\n",
      "2 X 10 = 20\n",
      "3 X 10 = 30\n",
      "4 X 10 = 40\n",
      "5 X 10 = 50\n",
      "6 X 10 = 60\n",
      "7 X 10 = 70\n",
      "8 X 10 = 80\n",
      "9 X 10 = 90\n",
      "10 X 10 = 100\n"
     ]
    }
   ],
   "source": [
    "#Write a Python Program to Display the multiplication Table?\n",
    "x=int(input(\"Enter the number: \"))\n",
    "print(\"Multiplication table\")\n",
    "for i in range(1,11):\n",
    "    print(f'{i} X {x} = {i*x}')\n",
    "    "
   ]
  },
  {
   "cell_type": "code",
   "execution_count": 18,
   "id": "1cb4d9d7",
   "metadata": {},
   "outputs": [
    {
     "name": "stdout",
     "output_type": "stream",
     "text": [
      "Enter number of terms:5\n",
      "Fibonacci sequence:\n",
      "0\n",
      "1\n",
      "1\n",
      "2\n",
      "3\n"
     ]
    }
   ],
   "source": [
    "#Write a Python Program to Print the Fibonacci sequence?\n",
    "\n",
    "def fibonacci(n):\n",
    "    if(n <= 1):\n",
    "        return n\n",
    "    else:\n",
    "        return(fibonacci(n-1) + fibonacci(n-2))\n",
    "    \n",
    "    \n",
    "    \n",
    "n = int(input(\"Enter number of terms:\"))\n",
    "print(\"Fibonacci sequence:\")\n",
    "for i in range(n):\n",
    "    print(fibonacci(i))"
   ]
  },
  {
   "cell_type": "code",
   "execution_count": 25,
   "id": "7923071e",
   "metadata": {},
   "outputs": [
    {
     "name": "stdout",
     "output_type": "stream",
     "text": [
      "Enter number: 153\n",
      "Armstrong\n"
     ]
    }
   ],
   "source": [
    "#Write a Python Program to Check Armstrong Number?\n",
    "\n",
    "n=int(input(\"Enter number: \"))\n",
    "l=len(str(n))\n",
    "s=0\n",
    "for i in str(n):\n",
    "    s=s+int(i)**l\n",
    "if s == n:\n",
    "    print(\"Armstrong\")\n",
    "else:\n",
    "    print(\"Not Armstrong\")"
   ]
  },
  {
   "cell_type": "code",
   "execution_count": 32,
   "id": "38143207",
   "metadata": {},
   "outputs": [
    {
     "name": "stdout",
     "output_type": "stream",
     "text": [
      "Enter number: 100\n",
      "Enter number: 1000\n",
      "153\n",
      "370\n",
      "371\n",
      "407\n"
     ]
    }
   ],
   "source": [
    "#Write a Python Program to Find Armstrong Number in an Interval?\n",
    "\n",
    "def armstrong(r1,r2):\n",
    "    for i in range(r1,r2+1):\n",
    "        l=len(str(i))\n",
    "        s=0\n",
    "        for j in str(i):\n",
    "            s=s+int(j)**l\n",
    "        if s == i:\n",
    "            print(i)\n",
    "        else:\n",
    "            pass\n",
    "   \n",
    "    \n",
    "r1=int(input(\"Enter number: \"))\n",
    "r2=int(input(\"Enter number: \"))\n",
    "armstrong(r1,r2)"
   ]
  },
  {
   "cell_type": "markdown",
   "id": "85e26c10",
   "metadata": {},
   "source": [
    "- An array is said to be monotonic in nature if it is either continuously increasing or continuously decreasing."
   ]
  },
  {
   "cell_type": "code",
   "execution_count": 34,
   "id": "94100f12",
   "metadata": {},
   "outputs": [
    {
     "name": "stdout",
     "output_type": "stream",
     "text": [
      "Enter number: 20\n",
      "210\n"
     ]
    }
   ],
   "source": [
    "#Write a Python Program to Find the Sum of Natural Numbers?\n",
    "\n",
    "n=int(input(\"Enter number: \"))\n",
    "s=0\n",
    "for i in range(n+1):\n",
    "    s+=i\n",
    "print(s)"
   ]
  },
  {
   "cell_type": "code",
   "execution_count": null,
   "id": "1c34312b",
   "metadata": {},
   "outputs": [],
   "source": []
  }
 ],
 "metadata": {
  "kernelspec": {
   "display_name": "Python 3 (ipykernel)",
   "language": "python",
   "name": "python3"
  },
  "language_info": {
   "codemirror_mode": {
    "name": "ipython",
    "version": 3
   },
   "file_extension": ".py",
   "mimetype": "text/x-python",
   "name": "python",
   "nbconvert_exporter": "python",
   "pygments_lexer": "ipython3",
   "version": "3.9.13"
  }
 },
 "nbformat": 4,
 "nbformat_minor": 5
}
